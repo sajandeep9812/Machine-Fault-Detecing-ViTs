{
  "nbformat": 4,
  "nbformat_minor": 0,
  "metadata": {
    "colab": {
      "provenance": [],
      "gpuType": "T4"
    },
    "kernelspec": {
      "name": "python3",
      "display_name": "Python 3"
    },
    "language_info": {
      "name": "python"
    },
    "accelerator": "GPU"
  },
  "cells": [
    {
      "cell_type": "code",
      "execution_count": null,
      "metadata": {
        "id": "95M6Pog26HGQ"
      },
      "outputs": [],
      "source": [
        "import numpy as np\n",
        "import pandas as pd\n",
        "import matplotlib.pyplot as plt\n",
        "import os"
      ]
    },
    {
      "cell_type": "markdown",
      "source": [
        "#**Data Loading**"
      ],
      "metadata": {
        "id": "yp9j23KNRpg2"
      }
    },
    {
      "cell_type": "code",
      "source": [
        "base_path = \"/content/drive/MyDrive/University of Ottawa Rolling-element Dataset – Vibration and Acoustic Faults under Constant Load and Speed conditions (UORED-VAFCLS)/1_CSV_Raw_Data_Files (.csv)\"\n",
        "\n",
        "label_map = {\n",
        "    \"1_Healthy\": \"Healthy\",\n",
        "    \"2_Inner_Race_Faults\": \"InnerRace\",\n",
        "    \"3_Outer_Race_Faults\": \"OuterRace\",\n",
        "    \"4_Ball_Faults\": \"BallFault\",\n",
        "    \"5_Cage_Faults\": \"CageFault\"\n",
        "}\n",
        "\n",
        "# Dictionary to store data separately by mode\n",
        "folders = {}\n",
        "\n",
        "for folder, label in label_map.items():\n",
        "    folder_path = os.path.join(base_path, folder)\n",
        "    file_data = {}\n",
        "\n",
        "    for file in os.listdir(folder_path):\n",
        "        if file.endswith(\".csv\"):\n",
        "            file_path = os.path.join(folder_path, file)\n",
        "\n",
        "            df = pd.read_csv(file_path)\n",
        "            file_data[file] = df\n",
        "\n",
        "    folders[label] = file_data\n",
        "\n",
        "\n"
      ],
      "metadata": {
        "id": "CDp-XHTdRjuR"
      },
      "execution_count": null,
      "outputs": []
    },
    {
      "cell_type": "code",
      "source": [
        "print(\"Available classes:\", list(folders.keys()))\n",
        "print(\"Files in 'Healthy':\", list(folders[\"Healthy\"].keys()))\n",
        "print(\"One sample file head:\")\n",
        "print(folders[\"Healthy\"][list(folders[\"Healthy\"].keys())[1]].head(10))"
      ],
      "metadata": {
        "id": "KSm25Rwz-b7b",
        "colab": {
          "base_uri": "https://localhost:8080/"
        },
        "outputId": "b61468f6-a9e5-452c-c271-f2deac21feb5"
      },
      "execution_count": null,
      "outputs": [
        {
          "output_type": "stream",
          "name": "stdout",
          "text": [
            "Available classes: ['Healthy', 'InnerRace', 'OuterRace', 'BallFault', 'CageFault']\n",
            "Files in 'Healthy': ['H_10_0.csv', 'H_14_0.csv', 'H_12_0.csv', 'H_16_0.csv', 'H_13_0.csv', 'H_17_0.csv', 'H_3_0.csv', 'H_19_0.csv', 'H_1_0.csv', 'H_20_0.csv', 'H_6_0.csv', 'H_4_0.csv', 'H_2_0.csv', 'H_9_0.csv', 'H_5_0.csv', 'H_8_0.csv', 'H_7_0.csv', 'H_15_0.csv', 'H_11_0.csv', 'H_18_0.csv']\n",
            "One sample file head:\n",
            "   Accelerometer  Acoustic  Speed  Load  Temperature Difference\n",
            "0       4.938235  0.003684   1736   400                5.864023\n",
            "1       2.488559  0.005328      0     0                5.538230\n",
            "2       4.583677  0.004999      0     0                4.884955\n",
            "3      -0.347907  0.004671      0     0                6.027968\n",
            "4      -0.380140  0.003356      0     0                5.538230\n",
            "5      -0.154512  0.003684      0     0                6.682000\n",
            "6      -1.250419  0.004342      0     0                6.853341\n",
            "7       0.490140  0.003356      0     0                5.864023\n",
            "8       0.200047  0.004013      0     0                6.520150\n",
            "9       1.360419  0.003356      0     0                7.000668\n"
          ]
        }
      ]
    },
    {
      "cell_type": "code",
      "source": [
        "for label in folders:\n",
        "  num_files = len(folders[label])\n",
        "  print(f\"{label}: {num_files}\")"
      ],
      "metadata": {
        "colab": {
          "base_uri": "https://localhost:8080/"
        },
        "id": "uqlseY9ydqPc",
        "outputId": "b010fc7e-7fb2-40c1-a7ed-cb9f1ee592ee"
      },
      "execution_count": null,
      "outputs": [
        {
          "output_type": "stream",
          "name": "stdout",
          "text": [
            "Healthy: 20\n",
            "InnerRace: 10\n",
            "OuterRace: 10\n",
            "BallFault: 10\n",
            "CageFault: 10\n"
          ]
        }
      ]
    },
    {
      "cell_type": "markdown",
      "source": [
        "#**Accelerometer signals to Scalograms**"
      ],
      "metadata": {
        "id": "MmJgEzpY0Rb2"
      }
    },
    {
      "cell_type": "code",
      "source": [
        "import pywt\n",
        "\n",
        "fs = 42000  # Hz (dataset uses 42 kHz sampling rate)\n",
        "segment_size = 2048\n",
        "\n",
        "def morlet_scales_for_band(fs, fmin=100, fmax=15000, n_scales=128, fc=0.8125):\n",
        "    freqs = np.logspace(np.log10(fmin), np.log10(fmax), n_scales)\n",
        "    scales = (fc * fs) / freqs\n",
        "    return scales, freqs\n",
        "\n",
        "scales, target_freqs = morlet_scales_for_band(fs=fs, fmin=100, fmax=15000, n_scales=128)\n",
        "wavelet = \"morl\"\n",
        "\n",
        "input_dir = \"/content/drive/MyDrive/University of Ottawa Rolling-element Dataset – Vibration and Acoustic Faults under Constant Load and Speed conditions (UORED-VAFCLS)/1_CSV_Raw_Data_Files (.csv)/1_Healthy\"\n",
        "output_dir = \"/content/drive/MyDrive/UORED_scalograms_2048ss/1_Healthy\"\n",
        "os.makedirs(output_dir, exist_ok=True)\n",
        "\n",
        "# Loop through all CSV files in the folder\n",
        "for filename in os.listdir(input_dir):\n",
        "    if filename.endswith(\".csv\"):\n",
        "        df = pd.read_csv(os.path.join(input_dir, filename))\n",
        "        signal = df[\"Accelerometer\"].values\n",
        "\n",
        "        # Slide over the signal in windows\n",
        "        for i in range(0, len(signal) - segment_size, segment_size):\n",
        "            segment = signal[i:i+segment_size]\n",
        "\n",
        "            # Compute CWT scalogram\n",
        "            coeffs, freqs = pywt.cwt(segment, scales, wavelet, sampling_period=1/fs)\n",
        "\n",
        "            # Plot and save (resize ~224x224 px for ViT)\n",
        "            fig = plt.figure(figsize=(2.24, 2.24), dpi=100)\n",
        "            plt.imshow(np.abs(coeffs), extent=[0, segment_size/fs, target_freqs.min(), target_freqs.max()],\n",
        "                       cmap=\"jet\", aspect=\"auto\", origin=\"lower\")\n",
        "            plt.axis(\"off\")\n",
        "\n",
        "            # Save with segment index\n",
        "            out_name = f\"{os.path.splitext(filename)[0]}_{i//segment_size}.png\"\n",
        "            plt.savefig(os.path.join(output_dir, out_name),\n",
        "                        bbox_inches=\"tight\", pad_inches=0)\n",
        "            plt.close(fig)\n",
        "\n",
        "print(\"Successfully Converted Scalograms\")"
      ],
      "metadata": {
        "id": "PFg5BSm0PQGk"
      },
      "execution_count": null,
      "outputs": []
    },
    {
      "cell_type": "markdown",
      "source": [
        "#**Acoustic signals to spectrograms**"
      ],
      "metadata": {
        "id": "bKZXIm8XV1R5"
      }
    },
    {
      "cell_type": "code",
      "source": [
        "import os\n",
        "import numpy as np\n",
        "import pandas as pd\n",
        "import matplotlib.pyplot as plt\n",
        "from scipy import signal\n",
        "\n",
        "fs = 42000                 # Hz\n",
        "segment_size = 512         # samples per image (~12.19 ms)\n",
        "nperseg = 505              # STFT window length\n",
        "noverlap = 460             # STFT overlap (~91% inside STFT)\n",
        "cmap = \"viridis\"           # colormap\n",
        "fig_px = 224               # output image size in pixels (square)\n",
        "\n",
        "input_dir  = \"/content/drive/MyDrive/University of Ottawa Rolling-element Dataset – Vibration and Acoustic Faults under Constant Load and Speed conditions (UORED-VAFCLS)/1_CSV_Raw_Data_Files (.csv)/4_Ball_Faults\"\n",
        "output_dir = \"/content/drive/MyDrive/UORED_acoustic_spectrograms_512/4_Ball_Faults\"\n",
        "os.makedirs(output_dir, exist_ok=True)\n",
        "\n",
        "def save_stft_image(segment, out_path):\n",
        "    # STFT\n",
        "    f, t, Zxx = signal.stft(segment, fs=fs, nperseg=nperseg, noverlap=noverlap)\n",
        "    S = np.abs(Zxx)\n",
        "    S_db = 20 * np.log10(np.maximum(S, 1e-12))\n",
        "\n",
        "    # Plot ~224x224\n",
        "    fig = plt.figure(figsize=(fig_px/100, fig_px/100), dpi=100)\n",
        "    plt.imshow(S_db, aspect=\"auto\", origin=\"lower\",\n",
        "               extent=[t.min(), t.max(), f.min(), f.max()],\n",
        "               cmap=cmap)\n",
        "    plt.axis(\"off\")\n",
        "    plt.savefig(out_path, bbox_inches=\"tight\", pad_inches=0)\n",
        "    plt.close(fig)\n",
        "\n",
        "print(f\"📂 Processing folder: {input_dir}\")\n",
        "for filename in os.listdir(input_dir):\n",
        "    if not filename.endswith(\".csv\"):\n",
        "        continue\n",
        "\n",
        "    file_path = os.path.join(input_dir, filename)\n",
        "    df = pd.read_csv(file_path)\n",
        "\n",
        "    if \"Acoustic\" not in df.columns:\n",
        "        print(f\"⚠️ Skipping (no 'Acoustic' column): {filename}\")\n",
        "        continue\n",
        "\n",
        "    acoustic = df[\"Acoustic\"].to_numpy()\n",
        "\n",
        "    for i in range(0, len(acoustic) - segment_size, segment_size):\n",
        "        seg = acoustic[i:i+segment_size]\n",
        "        out_name = f\"{os.path.splitext(filename)[0]}_{i//segment_size}.png\"\n",
        "        out_path = os.path.join(output_dir, out_name)\n",
        "        save_stft_image(seg, out_path)\n",
        "\n",
        "print(\"Successfully Converted Spectrograms \")"
      ],
      "metadata": {
        "id": "EMhL4SLQPU6o"
      },
      "execution_count": null,
      "outputs": []
    },
    {
      "cell_type": "code",
      "source": [],
      "metadata": {
        "id": "XZ6B5HFtfSCn"
      },
      "execution_count": null,
      "outputs": []
    }
  ]
}